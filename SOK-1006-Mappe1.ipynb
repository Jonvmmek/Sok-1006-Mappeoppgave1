{
 "cells": [
  {
   "cell_type": "raw",
   "id": "df65d293-28ab-43a7-bf56-7fc0a114f2b1",
   "metadata": {},
   "source": [
    "---\n",
    "title: \"SOK-1006-Mappe1\"\n",
    "author: \"83\"\n",
    "format: \n",
    "  html:\n",
    "    code-fold: true\n",
    "jupyter: python3\n",
    "---"
   ]
  },
  {
   "cell_type": "code",
   "execution_count": 1,
   "id": "e00bae61-1628-46fb-b0b5-b244991a589a",
   "metadata": {},
   "outputs": [],
   "source": [
    "import json\n",
    "from itertools import groupby\n",
    "from operator import itemgetter\n",
    "import pandas as pd\n",
    "import matplotlib.pyplot as plt\n",
    "import requests\n",
    "from pyjstat import pyjstat\n",
    "import markdown"
   ]
  },
  {
   "cell_type": "markdown",
   "id": "11d78504-aa6e-4f1b-9743-81f6f07d6e04",
   "metadata": {
    "tags": []
   },
   "source": [
    "# SOK-1006 V23\n",
    "## Mappeoppgave 1 - Samfunnsøkonomisk analyse av en turistskatt\n",
    "\n",
    "## Teller 50% av karakteren i faget.\n",
    "\n",
    "### Innleveringsfrist fredag 24. mars 2023 kl 13.00 i Wiseflow\n",
    "\n",
    "\n",
    "### 1. Bakgrunn\n",
    "\n",
    "I januar 2023 kunngjorde Nærings- og fiskeridepartementet at [Regjeringen vil gi kommuner mulighet til å innføre besøksbidrag](https://www.regjeringen.no/no/aktuelt/vurderer-destinasjoner-for-besoksbidrag/id2959885/?expand=factbox2959954). En mulig utforming av et besøksbidrag er i form av en turistskatt som overnattingssteder må kreve inn av besøkende per overnatting. Du er bedt om å skrive en utredning om de samfunnsøkonomiske konsekvenser av å innføre en slik turistskatt. Utredningen skal skrives på et slikt nivå at det er lett forståelig for næringsminister Jan Christian Vestre. (Han er utdannet jurist). Alle faguttrykk må forklares på en intuitiv måte, og figurer/tabeller må ha presise og gode forklaringer. Et godt eksempel på en slik utredning om et annet tema er [Utredning av utvalgte tiltak i det norske kraftmarkedet](https://www.regjeringen.no/contentassets/0f626d2e10ef48e591d2ceefce3546dc/afry_menon_oed_endelig-rapport.pdf) skrevet av AFRY og Menon til Olje- og Energidepartementet i september 2022. (Dette har vi brukt i forbindelse med forelesning 5).      \n",
    "\n",
    "\n",
    "### 2. Instruksjoner og oppgaver\n",
    "\n",
    "Mappeoppgaven besvares individuelt. Det er ikke tillatt å samarbeide med andre om utvikling av tekst og kode. Kode som du henter fra andre kilder må siteres - se [MIT retningslinjer](https://integrity.mit.edu/handbook/writing-code) som gir en god pekepinn. Det er ikke lov å bruke KI tjenester som ChatGPT til å skrive tekst eller kode.       \n",
    "\n",
    "Dere skal levere to ting i Wiseflow:      \n",
    "- en GitHub lenke til en Jupyter notatblokk (eller annen kildefil) som inneholder både Python-kode og tekst      \n",
    "- en PDF eller HTML fil av Jupyter notatblokken      \n",
    "\n",
    "      \n",
    "Husk å merke alle filene med ditt kandidatnummer.\n",
    "\n",
    "Din utredning skal inneholde følgende elementer:\n",
    "\n",
    "*Kapittel 1 - Innledning*\n",
    "\n",
    "Gi litt bakgrunn i dette kapitlet.         \n",
    "\n",
    "Du vil muligens komme inn på følgende:      \n",
    "- Hva menes med en turistskatt på overnattinger?\n",
    "- Hva er begrunnelsen for dens innføring?\n",
    "- Hvor utbredt er dette tiltaket i andre land/byer?\n",
    "- Hvilke erfaringer har man gjort med en turistskatt?\n",
    "\n",
    "Til slutt vil kapitlet forteller leseren om utredningens struktur.\n",
    "\n",
    "*Kapittel 2 - Turistnæringen i Norge*\n",
    "\n",
    "Her gir du leseren et overblikk over markedet som du skal analysere. Om du vil kan du begrense deg til Nord-Norge. Finn data som du laster ned og bruker til å tegne figurer for å gi en indikasjon på størrelsen og viktigheten  på dette markedet. For eksempel:       \n",
    "\n",
    "- Hvordan har antall hotellovernattinger utviklet seg over tid?\n",
    "- Når på året kommer turister?\n",
    "- Hva er fordelingen av turister som ankommer via skip (cruise) og med fly, evt andre fremkomstmidler?\n",
    "- Hvordan er hotelløkonomien?\n",
    "- Hvor utbredt er private overnattinger gjennom Airbnb og andre plattformer?\n",
    "- Hvorfor kan disse momentene være viktig for din analyse?\n",
    "\n",
    "**Data**       \n",
    "\n",
    "For at analysen din skal være mulig å replisere (dvs at jeg kan kjøre din analyse i en notatblokk) er det viktig at du ikke henter data- og bildefiler fra din egen PC. Jeg vil helst at dere laster data direkte fra nett ved hjelp av et API. Dere har brukt API-er i SOK-1004 mot SSB sine databaser. Dette er også mulig å gjøre i Python selvsagt, og SSB har laget en utmerket [veiledning](https://github.com/janbrus/ssb-api-python-examples/blob/master/jsonstatToPandas_funksjon.ipynb). Jeg har oppsummert dette i en Jupyter notatblokk som heter `api.ipynb` i mitt repo for dette kurset.\n",
    "\n",
    "**Datakilder**       \n",
    "\n",
    "SSB lager et [satellittregnskap for turisme](https://www.ssb.no/nasjonalregnskap-og-konjunkturer/nasjonalregnskap/statistikk/satellittregnskap-for-turisme) som måler betydningen av reiselivet for norsk økonomi. Her vil dere finne det aller meste. [Kunnskapsbanken](https://telleren.kbnn.no/) har noen tall på reiseliv for Nord-Norge, inkludert Airbnb.\n",
    "\n",
    "**Ett eksempel** på hvordan man *kan* beskrive turisme er \"Tourism in the Arctic\", Derek J. Clark, Mikko Moilanen, Stein Østbye, kapittel 7 i  [The Economy of the North - ECONOR 2020](https://www.ssb.no/en/natur-og-miljo/artikler-og-publikasjoner/_attachment/454081?_ts=17bc94cfc98), SSB.\n",
    "\n",
    "*Kapittel 3 - Samfunnsøkonomiske effekter av en turistskatt*     \n",
    "\n",
    "I dette kapitlet gjennomfører du analysen. Du kan vurdere å ta med følgende elementer:      \n",
    "\n",
    "- Hva er formålet med å innføre en turistskatt på overnattinger?\n",
    "- Hvordan fungerer markedet for overnattinger uten en skatt?\n",
    "- Hvilke endringer forventer vi etter at skatten blir innført?\n",
    "- Hvilke effektivitets- og fordelingseffekter har dette tiltaket?\n",
    "- Hvor store effekter forventer vi, og hva er dette avhengig av?\n",
    "- Finnes det noen estimat på sentrale parameter (for eksempel priselastisiteten på etterspørsel etter overnattinger) som vi kan bruke for å konkretisere analysen?\n",
    "- En vurdering av hvorvidt formålet med tiltaket oppfylles.\n",
    "\n",
    "I kurset så langt har vi brukt ulike varianter av markedskrysset for å analysere forskjellige markeder, og dette blir verktøyet som brukes her også. Husk å gi en god forklaring av alle figurer som du lager i forbindelse med analysen. Dere har alt dere trenger! (Om du vil gå noe utover det som vi har snakket om i kurset så langt kan det være en idé å se på kapittel 13 i læreboka om \"eksterne virkninger\").        \n",
    "\n",
    "*Kapittel 4 - Konklusjon*\n",
    "\n",
    "Her oppsummerer du kort dinne funn fra analysen, og råd til Nærings- og fiskeridepartementet.     \n",
    "\n",
    "\n",
    "### 3. Bedømmelse\n",
    "\n",
    "Formålet med oppgaven er å gi dere trening i å\n",
    "\n",
    "-   skrive godt og tydelig\n",
    "\n",
    "-   anvende data og lage figurer ved hjelp av Python-kode\n",
    "\n",
    "-   operasjonalisere mikroøkonomiske begrep og teori i en analyse\n",
    "\n",
    "\n",
    "Oppgaven bedømmes ut fra følgende kriterier:\n",
    "\n",
    "1. evne til å gi kortfattede og presise definisjoner av grunnbegreper i mikroøkonomi\n",
    "2. evne til å anvende mikroøkonomiske begrep og bruke disse til å analysere et marked\n",
    "3. evne til å skrive konsist og presist for folk som ikke nødvendigvis er økonomer\n",
    "4. at utredningen har god struktur, analysen henger sammen og at det går en rød tråd gjennom den\n",
    "5. at forklaringene til figurene er presise og gode\n",
    "6. at Python-koden dere bruker til å løse oppgaven er oversiktlig og godt dokumentert\n",
    "   \n",
    "\n",
    "### 4. Tilbakemelding underveis\n",
    "\n",
    "Dere vil få anledning til å levere et utkast av arbeidet til Derek én gang og få tilbakemelding. Utkastet sendes per e-post ([derek.clark\\@uit.no](mailto:derek.clark@uit.no)) innen fredag 10. mars klokken 16.00. Besvarelser som sendes etter fristen blir ikke kommentert. NB. Derek tar ferie i uke 10 (6.-10.3).\n",
    "\n",
    "Lykke til!"
   ]
  },
  {
   "cell_type": "markdown",
   "id": "47de9fb2-a7df-456d-ad52-d03de3097efa",
   "metadata": {},
   "source": [
    "# Kapittel 1 - Innledning"
   ]
  },
  {
   "cell_type": "markdown",
   "id": "d9f8378e-671f-489c-91ff-e96fa71e93b8",
   "metadata": {},
   "source": [
    "Det viser seg at den næringen som er i kraftigst økning i verdensøkonomien er turisme, i Norge fra året 2009 til 2019 vises en endring\n",
    "i turistkonsum fra 119,6 milliarder til 194,3 milliarder, dette er ganske nær en fordobling av konsumet relatert til utenlandsk turisme. \n",
    "Dette kommer i form av utenlandske turister som ønsker å besøke Norge for sitt eksotiske og ville natur samt lysfenomenet nordlys, noe \n",
    "som også trekker en del turister fra andre deler av Norge. "
   ]
  },
  {
   "cell_type": "markdown",
   "id": "afbf63ee-8ce6-45dd-92ca-5f6c028b9263",
   "metadata": {},
   "source": [
    "I Norge i dag har reiselivsnæringen skapt om lag 350 000 arbeidsplasser, der hvor 180 900 er årsverk, som gjør opp en betydelig prosentandel \n",
    "av totale arbeidsplasser i Norge, noe som til tross for utfordringer de siste årene enda vokser.  \n",
    "Med et totalt konsum på 194,3 milliarder kroner i 2019[^1] sementerer reiselivsnæringen seg som en av Norges 5 største næringer. "
   ]
  },
  {
   "cell_type": "markdown",
   "id": "052ebe50-de88-476d-9978-b70c91830777",
   "metadata": {},
   "source": [
    "Man ser for seg at reiselivsnæringen vil kunne vokse om lag 3 til 4 prosent hvert år de neste 10 årene, dette kommer dog med enkelte forutsetninger, \n",
    "dette krever bærekraftig reiselivsutvikling, med en utvikling i spredning av reisemål, som igjen vil kreve en utvikling i infrastruktur \n",
    "for å kunne akkomodere for økt turisme. En skal dog ikke tenkte på denne veksten som bare positiv.\n",
    "ifølge Vestforsk sin \"Sustainable Destination Norway 2025\"[^2]rapport sto reiseliv for 8% av klimagassutslipp i 2005, med en \n",
    "stabil økning på tross av bedre og mer miljøvennlig teknologi er det ikke urimelig å anta at dette tallet også er i vekst i \n",
    "samsvar med  økning i turisme, særlig da økningen i turisme via de mest miljøvennlige reisemetodene ikke er de som har vokst mest."
   ]
  },
  {
   "cell_type": "markdown",
   "id": "3ac44e2a-1cee-412d-b887-01105cf154fc",
   "metadata": {},
   "source": [
    "Turisme defineres slik:[^3] Personer på reiser med en eller flere overnattinger borte fra hjemmet kalles turister, dette gjelder og dagsturister, eller ekskrusjonister. \n",
    "Dette kan i utgangspunktet virke litt generelt, da enhver person som reiser noe som helst sted ut av sitt hjem eller hjemkommune går \n",
    "under denne definisjonen, dette har dog en god grunn. Formålet med en turistskatt er for å forebygge og skåne turiststed for slitasje \n",
    "ved bruk, og hjelper til med å holde turistnæringen bærekraftig."
   ]
  },
  {
   "cell_type": "markdown",
   "id": "aaaa33b5-b396-4fb9-805a-916d191f2d9f",
   "metadata": {},
   "source": [
    "## Hva menes med en turistskatt på overnattinger?\n",
    "En turistskatt kan bli innført som en overnattings mums da den endelige regningen økes med et hvis antall prosent, dette \n",
    "betyr at jo dyrere overnattingene er jo mer kan du forvente å måtte betale i turistskatt. \n",
    "Dette varierer fra sted til sted da det enkelte plasser er et fast ekstra beløp."
   ]
  },
  {
   "cell_type": "markdown",
   "id": "bd11a996-03fe-4ef3-a073-e3efef8bbff6",
   "metadata": {},
   "source": [
    "## Hva er begrunnelsen for dens innføring?\n",
    "Innføringen av turistskatt på overnattinger har en direkte innvirkning, det lar turiststedet legge et premium på \n",
    "overnattingene som gir ekstra omsetning og levner næringen med ekstra penger for å opprettholde turistnæringen, dette bidrar \n",
    "med å gjøre det mer bærekraftig med og opprettholde infrastrukturen til turist plassene. \n",
    "En annen grunn for denne implementeringen er for å forsøke å dempe turismen, med å gjøre det dyrere å reise til populære \n",
    "turiststeder er målet å gjøre det mindre lukrativ for folk flest å reise. \n",
    "Selv om turistskatten ikke alltid er veldig høy gjør den en betydelig forskjell i økonomien i landene hvor det innføres."
   ]
  },
  {
   "cell_type": "markdown",
   "id": "3f213c91-09dd-4f38-a305-6e34f1c3cb29",
   "metadata": {},
   "source": [
    "## Hvor utbredt er dette tiltaket i andre land/byer?\n",
    "[^4]Turistskatt er en meget utbredt praksis og hvor mye du kan forvente å måtte betale fra sted til sted varierer, fra 15 kroner per natt i noen \n",
    "Europeiske byer til 2500 kroner i Bhutan, i Tsjekkia trenger du kun å betale turistskatt om du besøker hovedstaden Praha, denne gjelder \n",
    "også bare for voksne og prisen er ganske liten.  I Tyskland har du turistskatt i form av det de kaller kulturskatt og sengeskatt i byer \n",
    "som Frankfurt, Hamburg og Berlin, denne skatten legges inn som en prosent på hotellregningen. \n",
    "På mange karibiske øyer har du i tillegg til ekstra avgift på hotell en avreiseavgift.\n",
    "Her ser vi flere eksempler på hvordan forskjellige land velger å implementere turistskatter etter hvor nyttig det er, alt \n",
    "ettersom hvor det er nødvendig det er og hvor turistpresset ligger."
   ]
  },
  {
   "cell_type": "markdown",
   "id": "f145d414-30a6-4588-99ea-263b3b367322",
   "metadata": {},
   "source": [
    "## Hvilke erfaringer har man gjort med en turistskatt?\n",
    "Implementering av en turistskatt har i enkelte tilfeller satt bekymringen om at bruken av det Norske reiseliv kommer til å \n",
    "bli for dyrt, da Norske hoteller allerede har noe av den høyeste prisene i Europa. \n",
    "En metode for regulering av turisme i høysesonger er for turistplasser å enten senke eller øke turistskatten, på denne måten \n",
    "lette på presset turismen har på disse stedene. I Norge er Lofoten den desidert største turist plassen, Lofoten er en plass \n",
    "med relativt dårlig infrastruktur i forhold til hvor stor turismen er da det trekker innlandsturisme og utlandsturisme. \n",
    "Der har det i lang tid vært en bekymring for Lofoten at en økning i turisme vil føre til økt slitasje på natur og infrastruktur, hær \n",
    "vil en fluktuerende turistskatt kunne bidra til demping og økning i turisme basert på ønsket effekt etter sesong."
   ]
  },
  {
   "cell_type": "code",
   "execution_count": 2,
   "id": "804b28fa-57da-440d-ba0b-3847b580a8e3",
   "metadata": {},
   "outputs": [],
   "source": [
    "#| echo: false\n",
    "postUrl = \"https://data.ssb.no/api/v0/no/table/13156/\"\n",
    "\n",
    "apiQuery = {\n",
    "  \"query\": [\n",
    "    {\n",
    "      \"code\": \"Region\",\n",
    "      \"selection\": {\n",
    "        \"filter\": \"vs:ReiselivsRegioner\",\n",
    "        \"values\": [\n",
    "          \"03101\",\n",
    "          \"50101\",\n",
    "          \"18105\",\n",
    "          \"54101\",\n",
    "          \"54104\"\n",
    "        ]\n",
    "      }\n",
    "    },\n",
    "    {\n",
    "      \"code\": \"ContentsCode\",\n",
    "      \"selection\": {\n",
    "        \"filter\": \"item\",\n",
    "        \"values\": [\n",
    "          \"PrisRom\",\n",
    "          \"UtleigdeRom\"\n",
    "        ]\n",
    "      }\n",
    "    },\n",
    "    {\n",
    "      \"code\": \"Tid\",\n",
    "      \"selection\": {\n",
    "        \"filter\": \"item\",\n",
    "        \"values\": [\n",
    "          \"2016M01\",\n",
    "          \"2016M02\",\n",
    "          \"2016M03\",\n",
    "          \"2016M04\",\n",
    "          \"2016M05\",\n",
    "          \"2016M06\",\n",
    "          \"2016M07\",\n",
    "          \"2016M08\",\n",
    "          \"2016M09\",\n",
    "          \"2016M10\",\n",
    "          \"2016M11\",\n",
    "          \"2016M12\",\n",
    "          \"2017M01\",\n",
    "          \"2017M02\",\n",
    "          \"2017M03\",\n",
    "          \"2017M04\",\n",
    "          \"2017M05\",\n",
    "          \"2017M06\",\n",
    "          \"2017M07\",\n",
    "          \"2017M08\",\n",
    "          \"2017M09\",\n",
    "          \"2017M10\",\n",
    "          \"2017M11\",\n",
    "          \"2017M12\",\n",
    "          \"2018M01\",\n",
    "          \"2018M02\",\n",
    "          \"2018M03\",\n",
    "          \"2018M04\",\n",
    "          \"2018M05\",\n",
    "          \"2018M06\",\n",
    "          \"2018M07\",\n",
    "          \"2018M08\",\n",
    "          \"2018M09\",\n",
    "          \"2018M10\",\n",
    "          \"2018M11\",\n",
    "          \"2018M12\",\n",
    "          \"2019M01\",\n",
    "          \"2019M02\",\n",
    "          \"2019M03\",\n",
    "          \"2019M04\",\n",
    "          \"2019M05\",\n",
    "          \"2019M06\",\n",
    "          \"2019M07\",\n",
    "          \"2019M08\",\n",
    "          \"2019M09\",\n",
    "          \"2019M10\",\n",
    "          \"2019M11\",\n",
    "          \"2019M12\",\n",
    "          \"2020M01\",\n",
    "          \"2020M02\",\n",
    "          \"2020M03\",\n",
    "          \"2020M04\",\n",
    "          \"2020M05\",\n",
    "          \"2020M06\",\n",
    "          \"2020M07\",\n",
    "          \"2020M08\",\n",
    "          \"2020M09\",\n",
    "          \"2020M10\",\n",
    "          \"2020M11\",\n",
    "          \"2020M12\",\n",
    "          \"2021M01\",\n",
    "          \"2021M02\",\n",
    "          \"2021M03\",\n",
    "          \"2021M04\",\n",
    "          \"2021M05\",\n",
    "          \"2021M06\",\n",
    "          \"2021M07\",\n",
    "          \"2021M08\",\n",
    "          \"2021M09\",\n",
    "          \"2021M10\",\n",
    "          \"2021M11\",\n",
    "          \"2021M12\",\n",
    "          \"2022M01\",\n",
    "          \"2022M02\",\n",
    "          \"2022M03\",\n",
    "          \"2022M04\",\n",
    "          \"2022M05\",\n",
    "          \"2022M06\",\n",
    "          \"2022M07\",\n",
    "          \"2022M08\",\n",
    "          \"2022M09\",\n",
    "          \"2022M10\",\n",
    "          \"2022M11\",\n",
    "          \"2022M12\"\n",
    "        ]\n",
    "      }\n",
    "    }\n",
    "  ],\n",
    "  \"response\": {\n",
    "    \"format\": \"json-stat2\"\n",
    "  }\n",
    "    }"
   ]
  },
  {
   "cell_type": "code",
   "execution_count": 3,
   "id": "3df7a6b3-4c59-414c-8580-17f68803841a",
   "metadata": {},
   "outputs": [],
   "source": [
    "def apiToDataframe(postUrl, query):\n",
    "    # postUrl som spørringen skal postes mot\n",
    "\t# Spørringen og endepunktet til API-et kan hentes fra Statistikkbanken.\n",
    "\n",
    "\tres = requests.post(postUrl, json=query)\n",
    "\t# legger resultat i ds. DS har i tillegg en del metadata\n",
    "\tds = pyjstat.Dataset.read(res.text)\n",
    "\t# skriver resultatet til to dataframes\n",
    "    # først dataframe med tekst\n",
    "\tdf = ds.write('dataframe')\n",
    "    # deretter dataframe med koder\n",
    "\tdf_id = ds.write('dataframe', naming='id')\n",
    "    # returnerer også ds i tilfelle en trenger metadata\n",
    "\treturn df, df_id, ds\n",
    "\n",
    "df, df_id, ds = apiToDataframe(postUrl, apiQuery)\n",
    "\n",
    "df['måned'] = [x[:-3] for x in df['måned']]\n",
    "\n",
    "df_rom = df[df['statistikkvariabel']=='Utleigde rom']\n",
    "df_pris = df[df['statistikkvariabel']=='Pris rom']\n",
    "df_sum= df_rom.groupby(['måned', 'region' ], as_index=False).agg(sum_value = pd.NamedAgg(column ='value', aggfunc='sum'))"
   ]
  },
  {
   "cell_type": "code",
   "execution_count": 4,
   "id": "96f172dd-a2fe-40cd-819d-2292c0926c6c",
   "metadata": {},
   "outputs": [
    {
     "data": {
      "image/png": "[encoded data removed]",
      "text/plain": [
       "<Figure size 640x480 with 1 Axes>"
      ]
     },
     "metadata": {},
     "output_type": "display_data"
    }
   ],
   "source": [
    "groups = df_sum.groupby('region')\n",
    "for name, group in groups:\n",
    "    plt.plot(group.måned, group.sum_value, marker='o', linestyle='', markersize=7, label=name)\n",
    "plt.legend()\n",
    "plt.title('Utvikling av hotellovernattinger 2016-2022');"
   ]
  },
  {
   "cell_type": "markdown",
   "id": "c8a8d445-b018-4558-96cb-df2b82ceeab1",
   "metadata": {},
   "source": [
    "I denne grafen observerer veksten og endringer i antall hotellovernattinger de 8 siste årene, basert på populære turiststeder."
   ]
  },
  {
   "cell_type": "code",
   "execution_count": 5,
   "id": "837eca68-ff07-4ff0-b352-c6e2e86054bc",
   "metadata": {},
   "outputs": [
    {
     "data": {
      "text/html": [
       "<div>\n",
       "<style scoped>\n",
       "    .dataframe tbody tr th:only-of-type {\n",
       "        vertical-align: middle;\n",
       "    }\n",
       "\n",
       "    .dataframe tbody tr th {\n",
       "        vertical-align: top;\n",
       "    }\n",
       "\n",
       "    .dataframe thead th {\n",
       "        text-align: right;\n",
       "    }\n",
       "</style>\n",
       "<table border=\"1\" class=\"dataframe\">\n",
       "  <thead>\n",
       "    <tr style=\"text-align: right;\">\n",
       "      <th></th>\n",
       "      <th>måned</th>\n",
       "      <th>region</th>\n",
       "      <th>sum_value</th>\n",
       "    </tr>\n",
       "  </thead>\n",
       "  <tbody>\n",
       "    <tr>\n",
       "      <th>0</th>\n",
       "      <td>2016</td>\n",
       "      <td>Lofoten</td>\n",
       "      <td>112695.0</td>\n",
       "    </tr>\n",
       "    <tr>\n",
       "      <th>1</th>\n",
       "      <td>2016</td>\n",
       "      <td>Oslo</td>\n",
       "      <td>3202032.0</td>\n",
       "    </tr>\n",
       "    <tr>\n",
       "      <th>2</th>\n",
       "      <td>2016</td>\n",
       "      <td>Tromsø</td>\n",
       "      <td>558234.0</td>\n",
       "    </tr>\n",
       "    <tr>\n",
       "      <th>3</th>\n",
       "      <td>2016</td>\n",
       "      <td>Trondheim</td>\n",
       "      <td>948880.0</td>\n",
       "    </tr>\n",
       "    <tr>\n",
       "      <th>4</th>\n",
       "      <td>2016</td>\n",
       "      <td>Vest-/Indre-Finnmark</td>\n",
       "      <td>227714.0</td>\n",
       "    </tr>\n",
       "    <tr>\n",
       "      <th>5</th>\n",
       "      <td>2017</td>\n",
       "      <td>Lofoten</td>\n",
       "      <td>126995.0</td>\n",
       "    </tr>\n",
       "    <tr>\n",
       "      <th>6</th>\n",
       "      <td>2017</td>\n",
       "      <td>Oslo</td>\n",
       "      <td>3291407.0</td>\n",
       "    </tr>\n",
       "    <tr>\n",
       "      <th>7</th>\n",
       "      <td>2017</td>\n",
       "      <td>Tromsø</td>\n",
       "      <td>564387.0</td>\n",
       "    </tr>\n",
       "    <tr>\n",
       "      <th>8</th>\n",
       "      <td>2017</td>\n",
       "      <td>Trondheim</td>\n",
       "      <td>956544.0</td>\n",
       "    </tr>\n",
       "    <tr>\n",
       "      <th>9</th>\n",
       "      <td>2017</td>\n",
       "      <td>Vest-/Indre-Finnmark</td>\n",
       "      <td>247440.0</td>\n",
       "    </tr>\n",
       "    <tr>\n",
       "      <th>10</th>\n",
       "      <td>2018</td>\n",
       "      <td>Lofoten</td>\n",
       "      <td>125783.0</td>\n",
       "    </tr>\n",
       "    <tr>\n",
       "      <th>11</th>\n",
       "      <td>2018</td>\n",
       "      <td>Oslo</td>\n",
       "      <td>3252711.0</td>\n",
       "    </tr>\n",
       "    <tr>\n",
       "      <th>12</th>\n",
       "      <td>2018</td>\n",
       "      <td>Tromsø</td>\n",
       "      <td>581178.0</td>\n",
       "    </tr>\n",
       "    <tr>\n",
       "      <th>13</th>\n",
       "      <td>2018</td>\n",
       "      <td>Trondheim</td>\n",
       "      <td>951046.0</td>\n",
       "    </tr>\n",
       "    <tr>\n",
       "      <th>14</th>\n",
       "      <td>2018</td>\n",
       "      <td>Vest-/Indre-Finnmark</td>\n",
       "      <td>249304.0</td>\n",
       "    </tr>\n",
       "    <tr>\n",
       "      <th>15</th>\n",
       "      <td>2019</td>\n",
       "      <td>Lofoten</td>\n",
       "      <td>135375.0</td>\n",
       "    </tr>\n",
       "    <tr>\n",
       "      <th>16</th>\n",
       "      <td>2019</td>\n",
       "      <td>Oslo</td>\n",
       "      <td>3575686.0</td>\n",
       "    </tr>\n",
       "    <tr>\n",
       "      <th>17</th>\n",
       "      <td>2019</td>\n",
       "      <td>Tromsø</td>\n",
       "      <td>603219.0</td>\n",
       "    </tr>\n",
       "    <tr>\n",
       "      <th>18</th>\n",
       "      <td>2019</td>\n",
       "      <td>Trondheim</td>\n",
       "      <td>977549.0</td>\n",
       "    </tr>\n",
       "    <tr>\n",
       "      <th>19</th>\n",
       "      <td>2019</td>\n",
       "      <td>Vest-/Indre-Finnmark</td>\n",
       "      <td>257057.0</td>\n",
       "    </tr>\n",
       "    <tr>\n",
       "      <th>20</th>\n",
       "      <td>2020</td>\n",
       "      <td>Lofoten</td>\n",
       "      <td>95255.0</td>\n",
       "    </tr>\n",
       "    <tr>\n",
       "      <th>21</th>\n",
       "      <td>2020</td>\n",
       "      <td>Oslo</td>\n",
       "      <td>1461706.0</td>\n",
       "    </tr>\n",
       "    <tr>\n",
       "      <th>22</th>\n",
       "      <td>2020</td>\n",
       "      <td>Tromsø</td>\n",
       "      <td>263947.0</td>\n",
       "    </tr>\n",
       "    <tr>\n",
       "      <th>23</th>\n",
       "      <td>2020</td>\n",
       "      <td>Trondheim</td>\n",
       "      <td>598813.0</td>\n",
       "    </tr>\n",
       "    <tr>\n",
       "      <th>24</th>\n",
       "      <td>2020</td>\n",
       "      <td>Vest-/Indre-Finnmark</td>\n",
       "      <td>166784.0</td>\n",
       "    </tr>\n",
       "    <tr>\n",
       "      <th>25</th>\n",
       "      <td>2021</td>\n",
       "      <td>Lofoten</td>\n",
       "      <td>99724.0</td>\n",
       "    </tr>\n",
       "    <tr>\n",
       "      <th>26</th>\n",
       "      <td>2021</td>\n",
       "      <td>Oslo</td>\n",
       "      <td>1561915.0</td>\n",
       "    </tr>\n",
       "    <tr>\n",
       "      <th>27</th>\n",
       "      <td>2021</td>\n",
       "      <td>Tromsø</td>\n",
       "      <td>334859.0</td>\n",
       "    </tr>\n",
       "    <tr>\n",
       "      <th>28</th>\n",
       "      <td>2021</td>\n",
       "      <td>Trondheim</td>\n",
       "      <td>682547.0</td>\n",
       "    </tr>\n",
       "    <tr>\n",
       "      <th>29</th>\n",
       "      <td>2021</td>\n",
       "      <td>Vest-/Indre-Finnmark</td>\n",
       "      <td>211617.0</td>\n",
       "    </tr>\n",
       "    <tr>\n",
       "      <th>30</th>\n",
       "      <td>2022</td>\n",
       "      <td>Lofoten</td>\n",
       "      <td>131983.0</td>\n",
       "    </tr>\n",
       "    <tr>\n",
       "      <th>31</th>\n",
       "      <td>2022</td>\n",
       "      <td>Oslo</td>\n",
       "      <td>3167414.0</td>\n",
       "    </tr>\n",
       "    <tr>\n",
       "      <th>32</th>\n",
       "      <td>2022</td>\n",
       "      <td>Tromsø</td>\n",
       "      <td>543663.0</td>\n",
       "    </tr>\n",
       "    <tr>\n",
       "      <th>33</th>\n",
       "      <td>2022</td>\n",
       "      <td>Trondheim</td>\n",
       "      <td>960029.0</td>\n",
       "    </tr>\n",
       "    <tr>\n",
       "      <th>34</th>\n",
       "      <td>2022</td>\n",
       "      <td>Vest-/Indre-Finnmark</td>\n",
       "      <td>290961.0</td>\n",
       "    </tr>\n",
       "  </tbody>\n",
       "</table>\n",
       "</div>"
      ],
      "text/plain": [
       "   måned                region  sum_value\n",
       "0   2016               Lofoten   112695.0\n",
       "1   2016                  Oslo  3202032.0\n",
       "2   2016                Tromsø   558234.0\n",
       "3   2016             Trondheim   948880.0\n",
       "4   2016  Vest-/Indre-Finnmark   227714.0\n",
       "5   2017               Lofoten   126995.0\n",
       "6   2017                  Oslo  3291407.0\n",
       "7   2017                Tromsø   564387.0\n",
       "8   2017             Trondheim   956544.0\n",
       "9   2017  Vest-/Indre-Finnmark   247440.0\n",
       "10  2018               Lofoten   125783.0\n",
       "11  2018                  Oslo  3252711.0\n",
       "12  2018                Tromsø   581178.0\n",
       "13  2018             Trondheim   951046.0\n",
       "14  2018  Vest-/Indre-Finnmark   249304.0\n",
       "15  2019               Lofoten   135375.0\n",
       "16  2019                  Oslo  3575686.0\n",
       "17  2019                Tromsø   603219.0\n",
       "18  2019             Trondheim   977549.0\n",
       "19  2019  Vest-/Indre-Finnmark   257057.0\n",
       "20  2020               Lofoten    95255.0\n",
       "21  2020                  Oslo  1461706.0\n",
       "22  2020                Tromsø   263947.0\n",
       "23  2020             Trondheim   598813.0\n",
       "24  2020  Vest-/Indre-Finnmark   166784.0\n",
       "25  2021               Lofoten    99724.0\n",
       "26  2021                  Oslo  1561915.0\n",
       "27  2021                Tromsø   334859.0\n",
       "28  2021             Trondheim   682547.0\n",
       "29  2021  Vest-/Indre-Finnmark   211617.0\n",
       "30  2022               Lofoten   131983.0\n",
       "31  2022                  Oslo  3167414.0\n",
       "32  2022                Tromsø   543663.0\n",
       "33  2022             Trondheim   960029.0\n",
       "34  2022  Vest-/Indre-Finnmark   290961.0"
      ]
     },
     "execution_count": 5,
     "metadata": {},
     "output_type": "execute_result"
    }
   ],
   "source": [
    "df_sum"
   ]
  },
  {
   "cell_type": "markdown",
   "id": "29634085-992c-495b-88b2-d07ae293f797",
   "metadata": {},
   "source": [
    "# Kap 2 - Turistnæringen i Norge"
   ]
  },
  {
   "cell_type": "markdown",
   "id": "81338da1-b9ee-4418-a512-033b1d11a504",
   "metadata": {},
   "source": [
    "## Hvordan har antall hotellovernattinger utviklet seg over tid?\n",
    "Vi kan før fallet i 2019-2020 se en generell trend, denne viser vekst, som kan stemme overens med den 3-4 prosents veksten presentert tidligere, \n",
    "interessant å legge merke til er at i perioden med mindre hotellbelegning har ikke prisen på hotellrommene fulgt samme utvikling, der hvor \n",
    "antall rom okkupert falt med over 30 prosent falt prisen bare med om lag 20 kroner natten, som kan vise til et ønske å ikke devaluere verdien \n",
    "til hotellnæringen, vi kan se at etter fallet i 2019-2020 at antall hotellbelegninger har økt såpass drastisk til den grad at den igjen er på \n",
    "nivået med den tidligere trenden, prisen på hotellrommene har steget i takt med denne økningen og hotellnæringen har stort sett tjent på å \n",
    "holde prisen jevn.[^5]"
   ]
  },
  {
   "cell_type": "markdown",
   "id": "18ecb040-b772-4d2e-8fbe-afa54adb9b76",
   "metadata": {},
   "source": [
    "## Når på året kommer turister?\n",
    "I Nord-Norge ser vi utlandsturisme som oppsøker det eksotiske ved denne landsdelen på vinterhalvåret, dette enten i \n",
    "form av en lovnad om å oppleve nordlyset, oppleve ishotellet i Alta, hundekjøring, skikjøring i fjellet. \n",
    "Det er dog ikke bare vinterturisme i Nord-Norge, hvalsafari som foregår hele året er en trekkraft til Nord-Norge, \n",
    "fugleturisme og laksefiske på sommerhalvåret bidrar til en liten strøm av turisme både innad og utenfra Norge. \n",
    "Nordmenn flest reiser innad landet på sommerhalvåret, med en solid oppgang i fellesferien, mens på vinterhalvåret \n",
    "trekker mange nordmenn utlands til sydligere strøk."
   ]
  },
  {
   "cell_type": "markdown",
   "id": "9b8e9997-26c1-413f-a34f-72147b241fc6",
   "metadata": {},
   "source": [
    "## Hva er fordelingen av turister som ankommer via skip (cruise) og med fly, evt andre fremkomstmidler?\n",
    "Vi kan fra 1985 til 2005 observere en stor økning i utalandsk turisme der de mest forurensende reisemetodene er de som har økt mest, vi \n",
    "kan vise til en 192% økning i turister som reiser med fly, og en enorm økning i reising via cruise på 449%, \n",
    "noe som for flyreiser omtrent er en fordobling, og for cruise er mer enn en tredobling av antall reisende, \n",
    "de mer miljøvennlige reisemetodene buss og tog har minket til fordel for fly og båt."
   ]
  },
  {
   "cell_type": "markdown",
   "id": "ae0d676e-106a-47bc-a113-686a73ddc211",
   "metadata": {},
   "source": [
    "## Hvordan er hotelløkonomien?\n",
    "NHOreiseliv har en årsrapport for 2022 som beskriver følgende[^5], Widerstrøm hotel consulting har skrevet en rapport hvor \n",
    "de beskriver en næring som har gjort det bra til tross for nedstigninger og prosentmessig lavere hotelbelegninger. \n",
    "Prosentvis rapporteres det en mye høyere kapasitetsutnyttelse en tidligere år, men hotellene er enda ikke oppe på nivået de var på før pandemien. \n",
    "Vi ser også som tidligere at et mindre antall opptatte rom har fått mindre betydning da den generelle prisen per hotellrom har \n",
    "gjort opp for et mindre antall belegninger, dette kan vise til et sultent marked som er villig til å betale mye, og etterspørselen \n",
    "kan man derfor si at er høy. \n",
    "Hotellprisene har også økt på grunn av økte kostnader og har derfor ikke nødvendigvis tjent så fryktelig mye mer, men færre rom utleid \n",
    "vil også føre til mindre kostnader totalt for hotellene, de økte kostnadene ser vi i form av høyere strømpriser og arbeidskraft."
   ]
  },
  {
   "cell_type": "markdown",
   "id": "4112c8a8-de1e-493e-be47-fa911448de27",
   "metadata": {},
   "source": [
    "## Hvor utbredt er private overnattinger gjennom Airbnb og andre plattformer?\n",
    "På Airbnb sin nettside finner man alle mulige typer boliger du kan se for deg, fra båthus til vanlige bolighus med mulighet utleie. \n",
    "Prismessig kan vi observere priser godt under og over tilsvarende hotellrom. \n",
    "Airbnb er en ordning som gjør at man som privatperson kan leie ut sine boliger eller deler av boligen for opp til 10 000 kroner uten \n",
    "av at det blir beskattet. \n",
    "80% av inntektene deretter blir beskattet med 22%. \n",
    "Denne ordningen vil ta litt inntekt fra hotellene, men de som velger Airbnb ville muligens uansett gått for andre alternativ.\n",
    "Et annet moment med de fleste Airbnb boligene er beliggenheten, man kan se for seg at mange turister velger Airbnb over hoteller i \n",
    "tilfeller hvor boligene de leier har bedre beliggenhet i forhold til destinasjonen turistene er interessert i."
   ]
  },
  {
   "cell_type": "code",
   "execution_count": 6,
   "id": "b319fbfe-e91c-4e56-b65c-06a410262194",
   "metadata": {},
   "outputs": [
    {
     "data": {
      "text/html": [
       "<div>\n",
       "<style scoped>\n",
       "    .dataframe tbody tr th:only-of-type {\n",
       "        vertical-align: middle;\n",
       "    }\n",
       "\n",
       "    .dataframe tbody tr th {\n",
       "        vertical-align: top;\n",
       "    }\n",
       "\n",
       "    .dataframe thead th {\n",
       "        text-align: right;\n",
       "    }\n",
       "</style>\n",
       "<table border=\"1\" class=\"dataframe\">\n",
       "  <thead>\n",
       "    <tr style=\"text-align: right;\">\n",
       "      <th></th>\n",
       "      <th>år</th>\n",
       "      <th>Overnattinger fra resten av verden</th>\n",
       "      <th>Europeiske overnattinger</th>\n",
       "      <th>Norske overnattinger</th>\n",
       "    </tr>\n",
       "  </thead>\n",
       "  <tbody>\n",
       "    <tr>\n",
       "      <th>No.1</th>\n",
       "      <td>2018</td>\n",
       "      <td>654177.0</td>\n",
       "      <td>1705657.0</td>\n",
       "      <td>973237.0</td>\n",
       "    </tr>\n",
       "    <tr>\n",
       "      <th>No.2</th>\n",
       "      <td>2019</td>\n",
       "      <td>731240.0</td>\n",
       "      <td>2102619.0</td>\n",
       "      <td>1136346.0</td>\n",
       "    </tr>\n",
       "    <tr>\n",
       "      <th>No.3</th>\n",
       "      <td>2020</td>\n",
       "      <td>127065.0</td>\n",
       "      <td>871340.0</td>\n",
       "      <td>1467014.0</td>\n",
       "    </tr>\n",
       "    <tr>\n",
       "      <th>No.4</th>\n",
       "      <td>2021</td>\n",
       "      <td>63984.0</td>\n",
       "      <td>769960.0</td>\n",
       "      <td>1936722.0</td>\n",
       "    </tr>\n",
       "  </tbody>\n",
       "</table>\n",
       "</div>"
      ],
      "text/plain": [
       "        år  Overnattinger fra resten av verden  Europeiske overnattinger  \\\n",
       "No.1  2018                            654177.0                 1705657.0   \n",
       "No.2  2019                            731240.0                 2102619.0   \n",
       "No.3  2020                            127065.0                  871340.0   \n",
       "No.4  2021                             63984.0                  769960.0   \n",
       "\n",
       "      Norske overnattinger  \n",
       "No.1              973237.0  \n",
       "No.2             1136346.0  \n",
       "No.3             1467014.0  \n",
       "No.4             1936722.0  "
      ]
     },
     "execution_count": 6,
     "metadata": {},
     "output_type": "execute_result"
    }
   ],
   "source": [
    "data={'år':['2018','2019', '2020','2021'],'Overnattinger fra resten av verden':['654177','731240','127065','63984'], 'Europeiske overnattinger':['1705657','2102619','871340','769960'], 'Norske overnattinger':['973237','1136346','1467014','1936722']}\n",
    "\n",
    "airbnb=pd.DataFrame(data,index=['No.1','No.2','No.3','No.4'])\n",
    "\n",
    "airbnb['Overnattinger fra resten av verden']=airbnb['Overnattinger fra resten av verden'].astype(float)\n",
    "airbnb['Europeiske overnattinger']=airbnb['Europeiske overnattinger'].astype(float)\n",
    "airbnb['Norske overnattinger']=airbnb['Norske overnattinger'].astype(float)\n",
    "\n",
    "airbnb"
   ]
  },
  {
   "cell_type": "code",
   "execution_count": 7,
   "id": "ff2b4967-d43d-4034-a3c0-173011f12d36",
   "metadata": {},
   "outputs": [
    {
     "name": "stderr",
     "output_type": "stream",
     "text": [
      "/tmp/ipykernel_35378/3462405340.py:9: UserWarning: FixedFormatter should only be used together with FixedLocator\n",
      "  plt.gca().set_yticklabels(['{:.0f}'.format(x) for x in current_values])\n"
     ]
    },
    {
     "data": {
      "image/png": "[encoded data removed]",
      "text/plain": [
       "<Figure size 640x480 with 1 Axes>"
      ]
     },
     "metadata": {},
     "output_type": "display_data"
    }
   ],
   "source": [
    "ax = plt.gca()\n",
    "airbnb.plot(kind='line',x='år',y='Overnattinger fra resten av verden',color='red',ax=ax)\n",
    "airbnb.plot(kind='line',x='år',y='Europeiske overnattinger', color='blue',ax=ax)\n",
    "airbnb.plot(kind='line',x='år',y='Norske overnattinger', color='green',ax=ax)\n",
    "ax.spines['top'].set_color('none')\n",
    "ax.spines['right'].set_color('none')\n",
    "ax.set_title('Bruk av Airbnb OL')\n",
    "current_values = plt.gca().get_yticks()\n",
    "plt.gca().set_yticklabels(['{:.0f}'.format(x) for x in current_values])\n",
    "ax.legend(loc= 'best', frameon=False);"
   ]
  },
  {
   "cell_type": "markdown",
   "id": "3aaf251b-cbe7-4b38-83ce-e14ad4d88fba",
   "metadata": {},
   "source": [
    "Basert på grafen kan vi se en kraftig utvikling i airbnb bruk blant nordmenn, mens for turister fra andre land har disse tallene gått nedover.\n",
    "Antall overnattinger går naturligvis ned i starten av pandemien, men det er bare Nordmenn som viser et økt bruk av airbnb og lignende.\n",
    "At tallene for utenlandsk turisme kan foreslå at typen turister har endret seg, noe som kan foreslå en endring i økonomi og livstil i land turister kommer fra."
   ]
  },
  {
   "cell_type": "markdown",
   "id": "95a81a6d-7a9e-4e67-8ba1-e07df96eac4f",
   "metadata": {},
   "source": [
    "## Hvorfor kan disse momentene være viktig for din analyse?\n",
    "Vi har i dette kapittelet sett på når turisme er i sesong, hvor turistene trekker og hva som trekker de. \n",
    "Denne informasjonen er nyttig fordi vi ut ifra dette kan ta antakelser på hvordan man skal implementere en turistskatt i Norge. \n",
    "Det er ikke et stor poeng å innføre turistskatt på turiststeder hvor det  kanskje bare er turister i små perioder i løpet av året, \n",
    "da kan man heller ta avgifter på andre måter. \n",
    "En turistskatt i Norge burde være for å lage et godt rammeverk for bærekraftig utvikling som ikke er på bekostning av \n",
    "lokalbefolkningen og andre næringer, og ikke minst burde den være med å beskytte naturen, som ofte er trekkraften for turisme \n",
    "både innad landet og utenfor."
   ]
  },
  {
   "cell_type": "markdown",
   "id": "e6c5d3c9-76bc-4d76-bd77-0cffc399bafd",
   "metadata": {},
   "source": [
    "# Kapittel 3 - Samfunnsøkonomiske effekter av en turistskatt"
   ]
  },
  {
   "cell_type": "markdown",
   "id": "52b25997-7b71-40f4-b703-091500763040",
   "metadata": {},
   "source": [
    "## Hvordan fungerer markedet for overnattinger uten en skatt?\n",
    "I et internasjonalt marked har Norge en helt klar fordel slik det er i dag, uten en hotellskatt/overnattingsskatt er Norske hotell \n",
    "og lignende overnattingstjenester mye mer konkurransedyktig, om en turistskatt skulle bli innført i form av overnattingsskatt vil \n",
    "det føre til en høyere inntekt, men Norske hotell vil muligens kunne finne seg i den situasjonen der det er færre hotellrom okkupert \n",
    "til enhver tid. \n",
    "Norske hotellrom ligger allerede på et ganske høyt prisnivå, blant annet på grunn av tidligere nevnte faktorer som dyrere arbeidskraft \n",
    "og økte kostnader, men i Norge har en relativt høy merverdigavgift som er med på å trekke prisen på hotellrom enda høyere. \n",
    "Med alle disse faktorene i bildet starter vi å danne oss et bilde av hvorfor prisene har endt opp slik."
   ]
  },
  {
   "cell_type": "markdown",
   "id": "5cb73205-9ec9-45e3-bb6d-83c51b0e1ac8",
   "metadata": {},
   "source": [
    "## Hvilke endringer forventer vi etter at skatten blir innført?\n",
    "Vi har allerede konstanter at å legge inn en ekstra skatt på hotell vil føre til enda høyere døgnpris på hoteller, og denne \n",
    "veksten i pris kommer an på hvordan man velger å implementere denne skatten. \n",
    "Som diskutert tidigere kan vi velge og sette inn skatten som et fast beløp per dag, eller som en prosentandel av den totale \n",
    "hotellregningen. \n",
    "Et fast beløp kan være en god ide og implementere dersom hotellene kan justere den i forhold til sesong, og på denne måten \n",
    "få mye ut av denne skatten i perioder med mye trykk. \n",
    "Å innføre hotellskatt gjennom en prosent av den totale hotellregningen vil føre til en høyere regning, men trenger ikke \n",
    "være skadelig for hotellnæringen dersom den også kan reguleres med sesong og trykk, og ikke minst basert på lokasjon. \n",
    "Basert på forventingene om vekst i turisme og det generelle reiselivet kan man forvente en sterkt voksende inntektsstrøm."
   ]
  },
  {
   "cell_type": "code",
   "execution_count": 8,
   "id": "866ef0b1-3e48-43a1-825a-de5d441f27de",
   "metadata": {
    "tags": []
   },
   "outputs": [
    {
     "data": {
      "text/html": [
       "<div>\n",
       "<style scoped>\n",
       "    .dataframe tbody tr th:only-of-type {\n",
       "        vertical-align: middle;\n",
       "    }\n",
       "\n",
       "    .dataframe tbody tr th {\n",
       "        vertical-align: top;\n",
       "    }\n",
       "\n",
       "    .dataframe thead th {\n",
       "        text-align: right;\n",
       "    }\n",
       "</style>\n",
       "<table border=\"1\" class=\"dataframe\">\n",
       "  <thead>\n",
       "    <tr style=\"text-align: right;\">\n",
       "      <th></th>\n",
       "      <th>år</th>\n",
       "      <th>pris</th>\n",
       "      <th>skatt_25%</th>\n",
       "      <th>skatt_200</th>\n",
       "    </tr>\n",
       "  </thead>\n",
       "  <tbody>\n",
       "    <tr>\n",
       "      <th>No.1</th>\n",
       "      <td>2019</td>\n",
       "      <td>1000</td>\n",
       "      <td>1250.0</td>\n",
       "      <td>1200</td>\n",
       "    </tr>\n",
       "    <tr>\n",
       "      <th>No.2</th>\n",
       "      <td>2020</td>\n",
       "      <td>980</td>\n",
       "      <td>1225.0</td>\n",
       "      <td>1180</td>\n",
       "    </tr>\n",
       "    <tr>\n",
       "      <th>No.3</th>\n",
       "      <td>2021</td>\n",
       "      <td>1050</td>\n",
       "      <td>1312.5</td>\n",
       "      <td>1250</td>\n",
       "    </tr>\n",
       "    <tr>\n",
       "      <th>No.4</th>\n",
       "      <td>2022</td>\n",
       "      <td>1210</td>\n",
       "      <td>1512.5</td>\n",
       "      <td>1410</td>\n",
       "    </tr>\n",
       "  </tbody>\n",
       "</table>\n",
       "</div>"
      ],
      "text/plain": [
       "        år  pris  skatt_25%  skatt_200\n",
       "No.1  2019  1000     1250.0       1200\n",
       "No.2  2020   980     1225.0       1180\n",
       "No.3  2021  1050     1312.5       1250\n",
       "No.4  2022  1210     1512.5       1410"
      ]
     },
     "execution_count": 8,
     "metadata": {},
     "output_type": "execute_result"
    }
   ],
   "source": [
    "data={'år':['2019','2020', '2021','2022'],'pris':[1000,980,1050,1210]}\n",
    "\n",
    "hotellpriser=pd.DataFrame(data,index=['No.1','No.2','No.3','No.4'])\n",
    "\n",
    "hotellpriser['skatt_25%'] = hotellpriser['pris'] + (0.25 * hotellpriser['pris']) #hær legges det til 25% skatt\n",
    "\n",
    "hotellpriser['skatt_200'] = hotellpriser['pris'] + 200 #hær legges til en fast tillegspris\n",
    "\n",
    "hotellpriser\n",
    "#priser basert på tall fra nho reiseliv.no hotelloversikten 2022 årsrapport.[^5]\n",
    "#mengden skatt er i dette tilefellet ikke basert på realistiske tall men meningen er å visualisere forskjellen på beskattningsmetodene."
   ]
  },
  {
   "cell_type": "code",
   "execution_count": 9,
   "id": "9a3181e2-9cc9-4500-b7fc-3d3f3c46453d",
   "metadata": {},
   "outputs": [
    {
     "data": {
      "image/png": "[encoded data removed]",
      "text/plain": [
       "<Figure size 640x480 with 1 Axes>"
      ]
     },
     "metadata": {},
     "output_type": "display_data"
    }
   ],
   "source": [
    "ax = plt.gca()\n",
    "hotellpriser.plot(kind='line',x='år',y='pris',color='red',ax=ax)\n",
    "hotellpriser.plot(kind='line',x='år',y='skatt_25%', color='blue',ax=ax)\n",
    "hotellpriser.plot(kind='line',x='år',y='skatt_200', color='green',ax=ax)\n",
    "ax.spines['top'].set_color('none')\n",
    "ax.spines['right'].set_color('none')\n",
    "ax.set_title('Priser med overnattingsskatt')\n",
    "ax.legend(loc= 'best', frameon=False);"
   ]
  },
  {
   "cell_type": "markdown",
   "id": "3dfb0d96-5aec-4521-84b7-4675f09bcf52",
   "metadata": {},
   "source": [
    "hovedforskjellen på disse 2 beskatningsmetodene kan vi observere i denne grafen, med et fast beløp ser vi at prisen ikke vokser særlig \n",
    "ettersom regningen blir større.\n",
    "ved bruk av en skatt basert på en prosent kan vi se at den endelige regningen vil øke kraftigere jo høyere prisen er. "
   ]
  },
  {
   "cell_type": "code",
   "execution_count": 10,
   "id": "f8f4bc4d-48de-4755-9c09-a4ee1dcb490e",
   "metadata": {},
   "outputs": [
    {
     "data": {
      "text/html": [
       "<div>\n",
       "<style scoped>\n",
       "    .dataframe tbody tr th:only-of-type {\n",
       "        vertical-align: middle;\n",
       "    }\n",
       "\n",
       "    .dataframe tbody tr th {\n",
       "        vertical-align: top;\n",
       "    }\n",
       "\n",
       "    .dataframe thead th {\n",
       "        text-align: right;\n",
       "    }\n",
       "</style>\n",
       "<table border=\"1\" class=\"dataframe\">\n",
       "  <thead>\n",
       "    <tr style=\"text-align: right;\">\n",
       "      <th></th>\n",
       "      <th>år</th>\n",
       "      <th>pris</th>\n",
       "      <th>skatt_25%</th>\n",
       "      <th>skatt_200</th>\n",
       "      <th>total_uten_skatt</th>\n",
       "      <th>total_200</th>\n",
       "      <th>total_25%</th>\n",
       "    </tr>\n",
       "  </thead>\n",
       "  <tbody>\n",
       "    <tr>\n",
       "      <th>No.1</th>\n",
       "      <td>2019</td>\n",
       "      <td>1000</td>\n",
       "      <td>1250.0</td>\n",
       "      <td>1200</td>\n",
       "      <td>61000000</td>\n",
       "      <td>73200000</td>\n",
       "      <td>76250000.0</td>\n",
       "    </tr>\n",
       "    <tr>\n",
       "      <th>No.2</th>\n",
       "      <td>2020</td>\n",
       "      <td>980</td>\n",
       "      <td>1225.0</td>\n",
       "      <td>1180</td>\n",
       "      <td>59780000</td>\n",
       "      <td>71980000</td>\n",
       "      <td>74725000.0</td>\n",
       "    </tr>\n",
       "    <tr>\n",
       "      <th>No.3</th>\n",
       "      <td>2021</td>\n",
       "      <td>1050</td>\n",
       "      <td>1312.5</td>\n",
       "      <td>1250</td>\n",
       "      <td>64050000</td>\n",
       "      <td>76250000</td>\n",
       "      <td>80062500.0</td>\n",
       "    </tr>\n",
       "    <tr>\n",
       "      <th>No.4</th>\n",
       "      <td>2022</td>\n",
       "      <td>1210</td>\n",
       "      <td>1512.5</td>\n",
       "      <td>1410</td>\n",
       "      <td>73810000</td>\n",
       "      <td>86010000</td>\n",
       "      <td>92262500.0</td>\n",
       "    </tr>\n",
       "  </tbody>\n",
       "</table>\n",
       "</div>"
      ],
      "text/plain": [
       "        år  pris  skatt_25%  skatt_200  total_uten_skatt  total_200  \\\n",
       "No.1  2019  1000     1250.0       1200          61000000   73200000   \n",
       "No.2  2020   980     1225.0       1180          59780000   71980000   \n",
       "No.3  2021  1050     1312.5       1250          64050000   76250000   \n",
       "No.4  2022  1210     1512.5       1410          73810000   86010000   \n",
       "\n",
       "       total_25%  \n",
       "No.1  76250000.0  \n",
       "No.2  74725000.0  \n",
       "No.3  80062500.0  \n",
       "No.4  92262500.0  "
      ]
     },
     "execution_count": 10,
     "metadata": {},
     "output_type": "execute_result"
    }
   ],
   "source": [
    "#tall fra NHO reiseliv hotelloversikten 2022 årsrapport[^5]\n",
    "hotellpriser['total_uten_skatt'] = hotellpriser['pris']  * 61000\n",
    "\n",
    "hotellpriser['total_200'] = hotellpriser['skatt_200']  * 61000\n",
    "\n",
    "hotellpriser['total_25%'] = hotellpriser['skatt_25%'] * 61000\n",
    "\n",
    "hotellpriser"
   ]
  },
  {
   "cell_type": "code",
   "execution_count": 11,
   "id": "29a3ab01-7e24-458d-b5d3-98f8a9e0e6f3",
   "metadata": {},
   "outputs": [
    {
     "name": "stderr",
     "output_type": "stream",
     "text": [
      "/tmp/ipykernel_35378/218377028.py:9: UserWarning: FixedFormatter should only be used together with FixedLocator\n",
      "  plt.gca().set_yticklabels(['{:.0f}'.format(x) for x in current_values])\n"
     ]
    },
    {
     "data": {
      "image/png": "[encoded data removed]",
      "text/plain": [
       "<Figure size 640x480 with 1 Axes>"
      ]
     },
     "metadata": {},
     "output_type": "display_data"
    }
   ],
   "source": [
    "ax = plt.gca()\n",
    "hotellpriser.plot(kind='line',x='år',y='total_uten_skatt',color='red',ax=ax)\n",
    "hotellpriser.plot(kind='line',x='år',y='total_25%', color='blue',ax=ax)\n",
    "hotellpriser.plot(kind='line',x='år',y='total_200', color='green',ax=ax)\n",
    "ax.spines['top'].set_color('none')\n",
    "ax.spines['right'].set_color('none')\n",
    "ax.set_title('Total inntekt med og uten skatt')\n",
    "current_values = plt.gca().get_yticks()\n",
    "plt.gca().set_yticklabels(['{:.0f}'.format(x) for x in current_values])\n",
    "ax.legend(loc= 'best', frameon=False);"
   ]
  },
  {
   "cell_type": "markdown",
   "id": "ada8fc8f-25ef-49f1-8d3c-db6ae65f8332",
   "metadata": {},
   "source": [
    "basert på tallene i tabellen og utviklingen i grafen ser vi summene man kan forvente om man beskatter det estimerte antallet hotellrom i Norge."
   ]
  },
  {
   "cell_type": "code",
   "execution_count": 12,
   "id": "ec4ad6bd-fa93-4836-be9c-2cbc86c2ff5e",
   "metadata": {},
   "outputs": [
    {
     "data": {
      "text/html": [
       "<div>\n",
       "<style scoped>\n",
       "    .dataframe tbody tr th:only-of-type {\n",
       "        vertical-align: middle;\n",
       "    }\n",
       "\n",
       "    .dataframe tbody tr th {\n",
       "        vertical-align: top;\n",
       "    }\n",
       "\n",
       "    .dataframe thead th {\n",
       "        text-align: right;\n",
       "    }\n",
       "</style>\n",
       "<table border=\"1\" class=\"dataframe\">\n",
       "  <thead>\n",
       "    <tr style=\"text-align: right;\">\n",
       "      <th></th>\n",
       "      <th>år</th>\n",
       "      <th>pris</th>\n",
       "      <th>skatt_25%</th>\n",
       "      <th>skatt_200</th>\n",
       "      <th>total_uten_skatt</th>\n",
       "      <th>total_200</th>\n",
       "      <th>total_25%</th>\n",
       "      <th>overskudd_25%</th>\n",
       "      <th>overskudd_200</th>\n",
       "    </tr>\n",
       "  </thead>\n",
       "  <tbody>\n",
       "    <tr>\n",
       "      <th>No.1</th>\n",
       "      <td>2019</td>\n",
       "      <td>1000</td>\n",
       "      <td>1250.0</td>\n",
       "      <td>1200</td>\n",
       "      <td>61000000</td>\n",
       "      <td>73200000</td>\n",
       "      <td>76250000.0</td>\n",
       "      <td>15250000.0</td>\n",
       "      <td>12200000</td>\n",
       "    </tr>\n",
       "    <tr>\n",
       "      <th>No.2</th>\n",
       "      <td>2020</td>\n",
       "      <td>980</td>\n",
       "      <td>1225.0</td>\n",
       "      <td>1180</td>\n",
       "      <td>59780000</td>\n",
       "      <td>71980000</td>\n",
       "      <td>74725000.0</td>\n",
       "      <td>14945000.0</td>\n",
       "      <td>12200000</td>\n",
       "    </tr>\n",
       "    <tr>\n",
       "      <th>No.3</th>\n",
       "      <td>2021</td>\n",
       "      <td>1050</td>\n",
       "      <td>1312.5</td>\n",
       "      <td>1250</td>\n",
       "      <td>64050000</td>\n",
       "      <td>76250000</td>\n",
       "      <td>80062500.0</td>\n",
       "      <td>16012500.0</td>\n",
       "      <td>12200000</td>\n",
       "    </tr>\n",
       "    <tr>\n",
       "      <th>No.4</th>\n",
       "      <td>2022</td>\n",
       "      <td>1210</td>\n",
       "      <td>1512.5</td>\n",
       "      <td>1410</td>\n",
       "      <td>73810000</td>\n",
       "      <td>86010000</td>\n",
       "      <td>92262500.0</td>\n",
       "      <td>18452500.0</td>\n",
       "      <td>12200000</td>\n",
       "    </tr>\n",
       "  </tbody>\n",
       "</table>\n",
       "</div>"
      ],
      "text/plain": [
       "        år  pris  skatt_25%  skatt_200  total_uten_skatt  total_200  \\\n",
       "No.1  2019  1000     1250.0       1200          61000000   73200000   \n",
       "No.2  2020   980     1225.0       1180          59780000   71980000   \n",
       "No.3  2021  1050     1312.5       1250          64050000   76250000   \n",
       "No.4  2022  1210     1512.5       1410          73810000   86010000   \n",
       "\n",
       "       total_25%  overskudd_25%  overskudd_200  \n",
       "No.1  76250000.0     15250000.0       12200000  \n",
       "No.2  74725000.0     14945000.0       12200000  \n",
       "No.3  80062500.0     16012500.0       12200000  \n",
       "No.4  92262500.0     18452500.0       12200000  "
      ]
     },
     "execution_count": 12,
     "metadata": {},
     "output_type": "execute_result"
    }
   ],
   "source": [
    "hotellpriser['overskudd_25%'] = hotellpriser['total_25%'] - hotellpriser['total_uten_skatt'] #regner ut overskuddet med implimentert hotellskatt\n",
    "hotellpriser['overskudd_200'] = hotellpriser['total_200'] - hotellpriser['total_uten_skatt'] #regner ut overskuddet med implimentert hotellskatt\n",
    "hotellpriser"
   ]
  },
  {
   "cell_type": "code",
   "execution_count": 13,
   "id": "fbcdfaf1-8295-4394-afee-7296ca173864",
   "metadata": {},
   "outputs": [
    {
     "name": "stdout",
     "output_type": "stream",
     "text": [
      "No.1    15250000.0\n",
      "No.2    14945000.0\n",
      "No.3    16012500.0\n",
      "No.4    18452500.0\n",
      "Name: overskudd_25%, dtype: float64\n"
     ]
    }
   ],
   "source": [
    "print(hotellpriser['overskudd_25%'])"
   ]
  },
  {
   "cell_type": "code",
   "execution_count": 14,
   "id": "94f2c8ec-6f00-4d27-88e9-5fd5eeaca154",
   "metadata": {},
   "outputs": [
    {
     "data": {
      "text/plain": [
       "No.1    12200000\n",
       "No.2    12200000\n",
       "No.3    12200000\n",
       "No.4    12200000\n",
       "Name: overskudd_200, dtype: int64"
      ]
     },
     "execution_count": 14,
     "metadata": {},
     "output_type": "execute_result"
    }
   ],
   "source": [
    "hotellpriser['overskudd_200']"
   ]
  },
  {
   "cell_type": "code",
   "execution_count": 15,
   "id": "d43633a6-1c64-4447-b9c5-47cf4f60d2f6",
   "metadata": {},
   "outputs": [
    {
     "name": "stderr",
     "output_type": "stream",
     "text": [
      "/tmp/ipykernel_35378/2277375884.py:8: UserWarning: FixedFormatter should only be used together with FixedLocator\n",
      "  plt.gca().set_yticklabels(['{:.0f}'.format(x) for x in current_values])\n"
     ]
    },
    {
     "data": {
      "image/png": "[encoded data removed]",
      "text/plain": [
       "<Figure size 640x480 with 1 Axes>"
      ]
     },
     "metadata": {},
     "output_type": "display_data"
    }
   ],
   "source": [
    "ax = plt.gca()\n",
    "hotellpriser.plot(kind='line',x='år',y='overskudd_200',color='red',ax=ax)\n",
    "hotellpriser.plot(kind='line',x='år',y='overskudd_25%', color='blue',ax=ax)\n",
    "ax.spines['top'].set_color('none')\n",
    "ax.spines['right'].set_color('none')\n",
    "ax.set_title('Overskuddsdifferanser')\n",
    "current_values = plt.gca().get_yticks()\n",
    "plt.gca().set_yticklabels(['{:.0f}'.format(x) for x in current_values])\n",
    "ax.legend(loc= 'best', frameon=False);"
   ]
  },
  {
   "cell_type": "code",
   "execution_count": 16,
   "id": "61dcf6fb-285f-44b2-be5f-145caae39975",
   "metadata": {},
   "outputs": [
    {
     "data": {
      "text/plain": [
       "No.1    3050000.0\n",
       "No.2    2745000.0\n",
       "No.3    3812500.0\n",
       "No.4    6252500.0\n",
       "Name: overskudd_diff, dtype: float64"
      ]
     },
     "execution_count": 16,
     "metadata": {},
     "output_type": "execute_result"
    }
   ],
   "source": [
    "hotellpriser['overskudd_diff'] = hotellpriser['overskudd_25%'] - hotellpriser['overskudd_200'] #regner ut differnasen av effekten av å beskatte med en prosent kontra fast beløp\n",
    "hotellpriser['overskudd_diff']"
   ]
  },
  {
   "cell_type": "markdown",
   "id": "b9f05fb4-9bd1-4070-99c9-60f672dcef18",
   "metadata": {},
   "source": [
    "Overskuddsdifferansene vil foreslå hvor mye penger turiststedene har igjen for å styrke infrastruktur, basert på beskatningsmetoder."
   ]
  },
  {
   "cell_type": "code",
   "execution_count": 17,
   "id": "19384c1b-9327-4d53-be5b-dc0922025031",
   "metadata": {},
   "outputs": [
    {
     "name": "stderr",
     "output_type": "stream",
     "text": [
      "/tmp/ipykernel_35378/3214308484.py:7: UserWarning: FixedFormatter should only be used together with FixedLocator\n",
      "  plt.gca().set_yticklabels(['{:.0f}'.format(x) for x in current_values])\n"
     ]
    },
    {
     "data": {
      "image/png": "[encoded data removed]",
      "text/plain": [
       "<Figure size 640x480 with 1 Axes>"
      ]
     },
     "metadata": {},
     "output_type": "display_data"
    }
   ],
   "source": [
    "ax = plt.gca()\n",
    "hotellpriser.plot(kind='bar',x='år',y='overskudd_diff',color='blue',ax=ax)\n",
    "ax.spines['top'].set_color('none')\n",
    "ax.spines['right'].set_color('none')\n",
    "ax.set_title('Overskuddsdifferanse')\n",
    "current_values = plt.gca().get_yticks()\n",
    "plt.gca().set_yticklabels(['{:.0f}'.format(x) for x in current_values])\n",
    "ax.legend(loc= 'best', frameon=False);"
   ]
  },
  {
   "cell_type": "markdown",
   "id": "bd0a1e1d-c87d-47bd-90f7-7593c9dca3cb",
   "metadata": {},
   "source": [
    "## Hvilke effektivitets- og fordelingseffekter har dette tiltaket?\n",
    "Vi vil kunne se en ny inntektsstrøm til turiststedene om dette tiltaket blir godkjent, og vil kunne oppleve en styrket infrastruktur, flere '\n",
    "ansatte i turistbransjen og derfor større bærekraftighet. \n",
    "Poenget med turistskatt i Norge vil i utgangspunktet for å ta større grad ta hensyn og styrke natur, infrastruktur og lokalbefolkning, \n",
    "dette gjøres med å deiligere ressurser til å håndtere turistrykket og vedlikeholde turistattraksjonene, la dette være fjell eller by.\n",
    " \n",
    "Vi kan med en innføring av turistskatt oppleve en endring i trykk på de mest populære turiststedene, dette vil også resultere i \n",
    "dempet slitasje på infrastruktur på disse stedene, men vil trolig også fordele en andel turister til mindre populære \n",
    "turiststeder, som muligens vil kunne gjøre disse destinasjonen mer populære."
   ]
  },
  {
   "cell_type": "markdown",
   "id": "dc2c965e-0981-471f-b4d4-632b1232a2c1",
   "metadata": {},
   "source": [
    "## Hvor store effekter forventer vi, og hva er dette avhengig av?\n",
    "Effekten av disse tiltakene vil komme an på hvor høy denne skatten settes, om den settes for høyt vil man kunne oppleve et svært \n",
    "endret marked, og tiltaket vil bli mot sin hensikt dersom den demper turisme til den grad at inntekten til turiststedene \n",
    "går under det nivået den var på før skattens innføring.\n",
    "\n",
    "Turistskatten burde heller ikke erstatte andre næringer i disse områdene, og man kan risikere en \n",
    "endring i statlige subsidier om næringsbildet endres for kraftig."
   ]
  },
  {
   "cell_type": "markdown",
   "id": "fa398c91-3e20-448f-b485-0fd093b60ce0",
   "metadata": {},
   "source": [
    "## Finnes det noen estimat på sentrale parameter som vi kan bruke for å konkretisere analysen?  "
   ]
  },
  {
   "cell_type": "code",
   "execution_count": 18,
   "id": "a7162f42-d5b1-4535-ac22-3f011a515ab7",
   "metadata": {},
   "outputs": [
    {
     "name": "stdout",
     "output_type": "stream",
     "text": [
      "15.238095238095239\n",
      "1.1162179908076164\n"
     ]
    },
    {
     "data": {
      "text/plain": [
       "No.1    1000\n",
       "No.2     980\n",
       "No.3    1050\n",
       "No.4    1210\n",
       "Name: pris, dtype: int64"
      ]
     },
     "execution_count": 18,
     "metadata": {},
     "output_type": "execute_result"
    }
   ],
   "source": [
    "#vi baserer oss på hotellprisene visualisert i NHO [^5]\n",
    "print(((1210 - 1050)/1050)*100) #regner ut prosentenring i pris på hotellrom basert på 2021 og 2022\n",
    "\n",
    "print(17/15.23) #regner ut priselastisitet\n",
    "\n",
    "hotellpriser['pris']\n",
    "\n",
    "#Vi kan konstantere basert på priselastisiteten på -1.11 at det er rom i markedet for en ytligere økning i pris på hotellrom."
   ]
  },
  {
   "cell_type": "code",
   "execution_count": 19,
   "id": "695edaa6-d3fc-40bd-9e7c-8179e608b2fd",
   "metadata": {},
   "outputs": [
    {
     "name": "stdout",
     "output_type": "stream",
     "text": [
      "17.0\n",
      "1.0\n",
      "18.5\n"
     ]
    }
   ],
   "source": [
    "print(((1228.5 - 1050)/1050)*100) #utregning av hvor høyt vi kan sette prisen uten av at prisen blir uelastisk.\n",
    "\n",
    "print(17/17) # -1 betyr at prisen er nøytalelastisk, og videre økining av pris på hotellrom er ikke lengre å anbefale.\n",
    "\n",
    "print(1228.5-1210) #regner ut maks prisøkning."
   ]
  },
  {
   "cell_type": "markdown",
   "id": "2753c512-5434-4d0f-a16c-6943853e2b77",
   "metadata": {},
   "source": [
    "## En vurdering av hvorvidt formålet med tiltaket oppfylles.\n",
    "Vi har nå regnet ut hvor mye den norske hotellnæringen kan øke prisene sine uten av at man opplever en minkende interesse.\n",
    "En prisøkning på 18.5 kan virke lite, men om alle hotellene i Norge øker prisene sine ser vi effekten."
   ]
  },
  {
   "cell_type": "code",
   "execution_count": 20,
   "id": "b3832621-8367-4386-a8f7-5c795231502f",
   "metadata": {},
   "outputs": [
    {
     "name": "stdout",
     "output_type": "stream",
     "text": [
      "74938500.0\n",
      "73810000\n"
     ]
    },
    {
     "name": "stderr",
     "output_type": "stream",
     "text": [
      "/tmp/ipykernel_35378/2959621843.py:17: UserWarning: FixedFormatter should only be used together with FixedLocator\n",
      "  plt.gca().set_yticklabels(['{:.0f}'.format(x) for x in current_values])\n"
     ]
    },
    {
     "data": {
      "image/png": "[encoded data removed]",
      "text/plain": [
       "<Figure size 640x480 with 1 Axes>"
      ]
     },
     "metadata": {},
     "output_type": "display_data"
    }
   ],
   "source": [
    "print(1228.5*61000)\n",
    "print(1210*61000)\n",
    "\n",
    "data={'ny_pris':[74938500],'gammel_pris':[73181000], 'år':['2022']}\n",
    "\n",
    "nye_priser=pd.DataFrame(data,index=['No.1'])\n",
    "\n",
    "nye_priser['overskudd'] = nye_priser['ny_pris'] - nye_priser['gammel_pris']\n",
    "\n",
    "ax = plt.gca()\n",
    "nye_priser.plot(kind='bar',x='år',y='ny_pris',color='blue',ax=ax)\n",
    "nye_priser.plot(kind='bar',x='år',y='gammel_pris',color='red',ax=ax)\n",
    "ax.spines['top'].set_color('none')\n",
    "ax.spines['right'].set_color('none')\n",
    "ax.set_title('Realistisk skatt')\n",
    "current_values = plt.gca().get_yticks()\n",
    "plt.gca().set_yticklabels(['{:.0f}'.format(x) for x in current_values])\n",
    "ax.legend(loc= 'best', frameon=False);"
   ]
  },
  {
   "cell_type": "code",
   "execution_count": 21,
   "id": "5161ec09-7ec9-446f-96e8-c581cea1a6b2",
   "metadata": {},
   "outputs": [
    {
     "data": {
      "text/plain": [
       "No.1    1757500\n",
       "Name: overskudd, dtype: int64"
      ]
     },
     "execution_count": 21,
     "metadata": {},
     "output_type": "execute_result"
    }
   ],
   "source": [
    "nye_priser['overskudd']"
   ]
  },
  {
   "cell_type": "markdown",
   "id": "7c759665-7428-450d-9e16-be0f8e4269ec",
   "metadata": {},
   "source": [
    "Den totale summen det enstimerte antallet hotellrom i Norge har å tjene på å øke prisene med 18,5 kr er 1 757 000 kr.\n",
    "Dette kan i utgangspunktet uvesentlig, men dette tallet vil kunne øke i framtiden, og vil kunne gå en lang vei for å\n",
    "støtte opp turistnæringens infrastruktur på plassene som tjener inn denne ekstra skatten."
   ]
  },
  {
   "cell_type": "markdown",
   "id": "3965eef8-5168-49b6-bb33-9257de1cea13",
   "metadata": {},
   "source": [
    "# Kapittel 4 - Konklusjon\n",
    "## Her oppsummerer du kort dinne funn fra analysen, og råd til Nærings- og fiskeridepartementet. "
   ]
  },
  {
   "cell_type": "markdown",
   "id": "0e65de48-2e60-4246-b2b6-8cd2e9363341",
   "metadata": {},
   "source": [
    "Vi har i denne rapporten diskutert hvordan en turistskatt i praksis vil fungere og hvorvidt en turistskatt er nødvendig å innføre i Norge.\n",
    "Fordelene kommer i form av økt inntekt hvor intensjonen i utgangspunktet skal være en fordeling til de komunene som turismen skjer i.\n",
    "Ulempen med innføring av en turistskatt er at det norske reiselivet får en høyere prislapp, og derfor om ikke regulert på en forsiktig måte \n",
    "kan den norske turismenæringen ende opp med å bli mindre konkuransedyktig på det internasjonale markedet."
   ]
  },
  {
   "cell_type": "markdown",
   "id": "cf9c12ff-a78c-4b81-be5d-4d672698d4cc",
   "metadata": {},
   "source": [
    "Turistnærigen i Norge er voksende, og vi har funnet ut at reiselivsnærigen har potensiale til å vokse 3-4 prosent årlig de 10 neste årene, det\n",
    "betyr i praksis at om turistskatten blir innført i nær fremtid vil den summen vi regnet ut kunne vokse i takt med veksten i reiselivsnæringen."
   ]
  },
  {
   "cell_type": "markdown",
   "id": "93301d26-8496-4367-a2b4-b57809978219",
   "metadata": {},
   "source": [
    "Priselastisiteten forteller oss noe om hvor mye prisen kan reguleres opp uten av at etterspørselen går ned, og vi regnet ut hvor mye\n",
    "norske hoteller kan ta ekstra i pris, men litt av poenget med implimenteringen av turistskatten er nettopp for å regulere turisme.\n",
    "Man kan oppnå dette med å legge en høyere skatt enn den i utregningen, og derfor ikke bare regulere turisme, men man vil få en økt\n",
    "effekt samtidig som at turistnæringen får mindre turister å håndtere.\n",
    "En annen effekt man er ute etter kan man oppnå med å kun innføre turistskatten på de mest populære turiststedene, og som et biprodukt kan\n",
    "dette bidra til å flytte turistpresset til de mindre populære turiststerdene hvor man ikke har innført samme skatt."
   ]
  },
  {
   "cell_type": "markdown",
   "id": "33493c9f-9ea7-4db1-97b6-05e42db607b1",
   "metadata": {
    "tags": []
   },
   "source": [
    "# Kilder:"
   ]
  },
  {
   "cell_type": "markdown",
   "id": "c7f65d59-c903-4b9b-94ee-35912034f983",
   "metadata": {
    "tags": []
   },
   "source": [
    "[^1]:https://www.nhoreiseliv.no/contentassets/5232a32e2ded4cbc97f53724d83455be/mer-og-gronnere-reiselivseksport-innspill-til-nasjonalt-eksportrad-compressed.pdf"
   ]
  },
  {
   "cell_type": "markdown",
   "id": "275e26cd-49a3-47ce-b647-242eb6719212",
   "metadata": {},
   "source": [
    "[^2]:https://www.vestforsk.no/sites/default/files/migrate_files/r-sdn-sluttrapport-endeleg-260611-2-.pdf"
   ]
  },
  {
   "cell_type": "markdown",
   "id": "f32a2a16-375a-42df-b93f-3cc52e07f972",
   "metadata": {},
   "source": [
    "[^3]https://www.ssb.no/a/histstat/rapp/rapp_199722.pdf"
   ]
  },
  {
   "cell_type": "markdown",
   "id": "06e7d9b8-5d30-40ce-887d-36dd8e1b9c00",
   "metadata": {},
   "source": [
    "[^4]https://www.reiseliv.no/reiseokonomi/turistskatt-kreves-i-mange-land-verden-over/"
   ]
  },
  {
   "cell_type": "markdown",
   "id": "e24e456b-85e0-45c9-84da-53fba44f04ac",
   "metadata": {},
   "source": [
    "[^5]:https://www.nhoreiseliv.no/contentassets/2d69dc827c1343cd89a7c779d9b5642e/hotelloversikten-2022-arsrapport.pdf"
   ]
  },
  {
   "cell_type": "markdown",
   "id": "e4e6d300-ddbd-440f-9203-98eb8250001e",
   "metadata": {},
   "source": [
    "Utvikling av hotellovernattinger 2016-2022: https://data.ssb.no/api/v0/no/table/13156/"
   ]
  }
 ],
 "metadata": {
  "kernelspec": {
   "display_name": "Python 3 (ipykernel)",
   "language": "python",
   "name": "python3"
  },
  "language_info": {
   "codemirror_mode": {
    "name": "ipython",
    "version": 3
   },
   "file_extension": ".py",
   "mimetype": "text/x-python",
   "name": "python",
   "nbconvert_exporter": "python",
   "pygments_lexer": "ipython3",
   "version": "3.9.15"
  }
 },
 "nbformat": 4,
 "nbformat_minor": 5
}
